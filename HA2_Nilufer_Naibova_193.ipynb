{
  "nbformat": 4,
  "nbformat_minor": 0,
  "metadata": {
    "kernelspec": {
      "display_name": "Python 3",
      "language": "python",
      "name": "python3"
    },
    "language_info": {
      "codemirror_mode": {
        "name": "ipython",
        "version": 3
      },
      "file_extension": ".py",
      "mimetype": "text/x-python",
      "name": "python",
      "nbconvert_exporter": "python",
      "pygments_lexer": "ipython3",
      "version": "3.8.3"
    },
    "colab": {
      "name": "HA2_done.ipynb",
      "provenance": [],
      "collapsed_sections": []
    }
  },
  "cells": [
    {
      "cell_type": "markdown",
      "metadata": {
        "id": "nus9QDLH_NDE"
      },
      "source": [
        "# <center> Home Assignment 2</center>"
      ]
    },
    {
      "cell_type": "markdown",
      "metadata": {
        "id": "xN4VZyc0_NDL"
      },
      "source": [
        "**Task 1.** <br>\n",
        "1.1 Create a dictionary with the countries as the keys and information on the population (in millions) as the values. The order is preserved (the first value in ```population_mln``` is for the first country in the list ```countries```, the second value - for the second country, etc.). <br>\n",
        "1.2 Add the new values in this dictionary: Germany - 83, France - 67, China - 140.81. <br>\n",
        "1.3 Oops! We made a mistake for China. It's 1408.1 million. Replace the existing value with the correct one."
      ]
    },
    {
      "cell_type": "code",
      "metadata": {
        "colab": {
          "base_uri": "https://localhost:8080/"
        },
        "id": "wLEGZi-U_NDL",
        "outputId": "613cdc0c-d368-46ba-f472-c9ce3fb04d95"
      },
      "source": [
        "countries = ['Italy', 'Russia', 'Austria', 'Australia', 'Cyprus', \n",
        "             'USA', 'Burkina Faso', 'Spain', 'Greece']\n",
        "\n",
        "population_mln = [60.3, 144.4, 8.6, 25.4, 0.86, 328, 20.3, 47, 10.7]\n",
        "\n",
        "\n",
        "# 1.1\n",
        "dict = {}\n",
        "for i, country in enumerate(countries):\n",
        "  dict[country] = population_mln[i]\n",
        "print(dict)\n",
        "\n",
        "# 1.2\n",
        "dict['Germany'] = 83\n",
        "dict['France'] = 67\n",
        "dict['China'] = 140.81\n",
        "print(dict)\n",
        "\n",
        "# 1.3\n",
        "dict['China'] = 1408.1\n",
        "print(dict)"
      ],
      "execution_count": null,
      "outputs": [
        {
          "output_type": "stream",
          "text": [
            "{'Italy': 60.3, 'Russia': 144.4, 'Austria': 8.6, 'Australia': 25.4, 'Cyprus': 0.86, 'USA': 328, 'Burkina Faso': 20.3, 'Spain': 47, 'Greece': 10.7}\n",
            "{'Italy': 60.3, 'Russia': 144.4, 'Austria': 8.6, 'Australia': 25.4, 'Cyprus': 0.86, 'USA': 328, 'Burkina Faso': 20.3, 'Spain': 47, 'Greece': 10.7, 'Germany': 83, 'France': 67, 'China': 140.81}\n",
            "{'Italy': 60.3, 'Russia': 144.4, 'Austria': 8.6, 'Australia': 25.4, 'Cyprus': 0.86, 'USA': 328, 'Burkina Faso': 20.3, 'Spain': 47, 'Greece': 10.7, 'Germany': 83, 'France': 67, 'China': 1408.1}\n"
          ],
          "name": "stdout"
        }
      ]
    },
    {
      "cell_type": "markdown",
      "metadata": {
        "id": "4GsDswT1_NDM"
      },
      "source": [
        "**Task 2.** Write code to return the second maximum value in the list. This means that it is less than the maximum value, but greater than others."
      ]
    },
    {
      "cell_type": "code",
      "metadata": {
        "colab": {
          "base_uri": "https://localhost:8080/"
        },
        "id": "NY8_UDe3_NDM",
        "outputId": "ee533ba5-931f-4e3f-a317-4c1bfa983673"
      },
      "source": [
        "array = [59, 7, 9, 87, 1, 0, 2, 20, 62, 120, 121, 98]\n",
        "\n",
        "array.sort()\n",
        "print('second max value: ', array[-2])"
      ],
      "execution_count": null,
      "outputs": [
        {
          "output_type": "stream",
          "text": [
            "second max value:  120\n"
          ],
          "name": "stdout"
        }
      ]
    },
    {
      "cell_type": "markdown",
      "metadata": {
        "id": "X4du0F_H_NDN"
      },
      "source": [
        "**Task 3**\n",
        "\n",
        "Demonstrate at least 2 ways to check if a given string is a palindrome. Your code should return True if this string is a palindrome and False otherwise. \n",
        "\n",
        "A palindrome is a word, number, phrase, string, or other sequence of characters which reads the same backward as forward. Examples: 'madam', 'kayak', 'aaabbbbaaa'.   "
      ]
    },
    {
      "cell_type": "code",
      "metadata": {
        "colab": {
          "base_uri": "https://localhost:8080/"
        },
        "id": "bPuomKow_NDN",
        "outputId": "71ad1f6a-f87a-454a-ec86-e71e045afc39"
      },
      "source": [
        "candidate = 'aAaacbbcaaAa'\n",
        "\n",
        "print('is \"', candidate, '\" a palindrome?')\n",
        "reversed_candidate = ''.join(reversed(candidate))\n",
        "if candidate == reversed_candidate:\n",
        "  print(True)\n",
        "else:\n",
        "  print(False)\n",
        "\n",
        "\n",
        "if candidate == candidate[::-1]:\n",
        "  print(True)\n",
        "else:\n",
        "  print(False)\n",
        "\n",
        "\n",
        "check_string = ''\n",
        "for i in candidate:\n",
        "  check_string = i + check_string\n",
        "\n",
        "if candidate == check_string:\n",
        "  print(True)\n",
        "else:\n",
        "  print(False)"
      ],
      "execution_count": 68,
      "outputs": [
        {
          "output_type": "stream",
          "text": [
            "is \" aAaacbbcaaAa \" a palindrome?\n",
            "True\n",
            "True\n",
            "True\n"
          ],
          "name": "stdout"
        }
      ]
    },
    {
      "cell_type": "markdown",
      "metadata": {
        "id": "kY1xFFDS_NDO"
      },
      "source": [
        "**Task 4.** \n",
        "\n",
        "1.1 You have downloaded the introductory excerpt from the book Political Order and Political Decay by Dr Francis Fukuyama, but the text was downloaded in parts and with special characters. On every line where these characters appear, remove them (namely: <page1>, <page2>, <page3>, # h1, # h2, # h3).\n",
        "\n",
        "1.2 Combine all parts of the text into one, so that the output is one text in string format (without extra square brackets left over from the list as a data structure. For instance, the beginning should be \"PART ONE. The State. WHAT IS POLITICAL ...\" instead of \"[PART ONE. The State.] [WHAT IS POLITICAL ...\"). The text must be connected in the correct sequence: chapter_title, subtitle, paragpraph_1, paragpraph_2, paragpraph_3. Print your final text as the answer for this task."
      ]
    },
    {
      "cell_type": "code",
      "metadata": {
        "id": "PLTojvZR_NDO"
      },
      "source": [
        "paragraph_3 = [\"The rule of law has many possible definitions, including simple law and order, property rights\"\n",
        "        \"and contract enforcement, or the modern Western understanding of human rights, which includes\",\n",
        "        \"equal rights for women and racial and ethnic minorities.1 <page3> The definition of the rule of law\",\n",
        "        \"I am using in this book is not tied to a specific substantive understanding of law. Rather, I\",\n",
        "        \"define it as a set of rules of behavior, reflecting a broad consensus within the society,\",\n",
        "        \" that is binding on even the most powerful political actors in the society, whether kings,\",\n",
        "        \" presidents, or prime ministers. \"]\n",
        "\n",
        "chapter_title = [\"PART\", \" ONE. #h1\", \"The \", \"State.#h2 \"]\n",
        "\n",
        "paragraph_2 = [\"In the first volume of this book, I argued that there were three basic \",\n",
        "        \"categories of institutions that constituted a political order: the state, \",\n",
        "        \"rule of law, and mechanisms of accountability. The state is \",\n",
        "        \"a hierarchical, centralized organization that holds a monopoly on legitimate\",\n",
        "        \"force over a defined territory. <page2> In addition to characteristics like complexity \",\n",
        "        \"and adaptability, states can be more or less impersonal: early states were \",\n",
        "        \"indistinguishable from the ruler’s household and were described as “patrimonial” because\",\n",
        "        \"they favored and worked through the ruler’s family and friends. Modern, more highly developed\",\n",
        "        \"states, by contrast, make a distinction between the private interest of the rulers and the public\",\n",
        "        \"interest of the whole community. They strive to treat citizens on a more impersonal basis,\",\n",
        "        \" applying laws, recruiting officials, and undertaking policies without favoritism. \"]\n",
        "\n",
        "subtitle = [\"#h3 WHAT IS POLITICAL DEVELOPMENT?\"]\n",
        "\n",
        "paragraph_1 = [\"Political development and its three components: the state, rule of law,\",\n",
        "        \" and accountability; why all societies are subject to political decay;\",\n",
        "        \" the plan for the book; why <page1> it is good to have a balanced political system.\",\n",
        "        \"Political development is change over time in political institutions.\",\n",
        "        \"This is different from shifts in politics or policies: prime ministers,\",\n",
        "        \" presidents, and legislators may come and go, laws may be modified, \",\n",
        "        \"but it is the underlying rules by which societies organize themselves\",\n",
        "        \" that define a political order. \"]"
      ],
      "execution_count": 29,
      "outputs": []
    },
    {
      "cell_type": "code",
      "metadata": {
        "id": "NEyYu5tv_NDP",
        "colab": {
          "base_uri": "https://localhost:8080/"
        },
        "outputId": "7b510541-cb25-454c-e67f-fcd141e60447"
      },
      "source": [
        "parts = [chapter_title, subtitle, paragraph_1, paragraph_2, paragraph_3]\r\n",
        "bad_chars = ['<page1>', '<page2>', '<page3>', '#h1', '#h2', '#h3']\r\n",
        "\r\n",
        "for part in parts:\r\n",
        "  for i, line in enumerate(part):\r\n",
        "    for char in bad_chars:\r\n",
        "      if char in line:\r\n",
        "        part[i] = line.replace(char, '')\r\n",
        "\r\n",
        "full_text = ''\r\n",
        "for part in parts:\r\n",
        "  full_text = full_text + ''.join(part) \r\n",
        "print(full_text)"
      ],
      "execution_count": 67,
      "outputs": [
        {
          "output_type": "stream",
          "text": [
            "PART ONE. The State.  WHAT IS POLITICAL DEVELOPMENT?Political development and its three components: the state, rule of law, and accountability; why all societies are subject to political decay; the plan for the book; why  it is good to have a balanced political system.Political development is change over time in political institutions.This is different from shifts in politics or policies: prime ministers, presidents, and legislators may come and go, laws may be modified, but it is the underlying rules by which societies organize themselves that define a political order. In the first volume of this book, I argued that there were three basic categories of institutions that constituted a political order: the state, rule of law, and mechanisms of accountability. The state is a hierarchical, centralized organization that holds a monopoly on legitimateforce over a defined territory.  In addition to characteristics like complexity and adaptability, states can be more or less impersonal: early states were indistinguishable from the ruler’s household and were described as “patrimonial” becausethey favored and worked through the ruler’s family and friends. Modern, more highly developedstates, by contrast, make a distinction between the private interest of the rulers and the publicinterest of the whole community. They strive to treat citizens on a more impersonal basis, applying laws, recruiting officials, and undertaking policies without favoritism. The rule of law has many possible definitions, including simple law and order, property rightsand contract enforcement, or the modern Western understanding of human rights, which includesequal rights for women and racial and ethnic minorities.1  The definition of the rule of lawI am using in this book is not tied to a specific substantive understanding of law. Rather, Idefine it as a set of rules of behavior, reflecting a broad consensus within the society, that is binding on even the most powerful political actors in the society, whether kings, presidents, or prime ministers. \n"
          ],
          "name": "stdout"
        }
      ]
    },
    {
      "cell_type": "markdown",
      "metadata": {
        "id": "S7AaOtZj_NDP"
      },
      "source": [
        "**Task 5**. \n",
        "\n",
        "1. Generate a sequence of numbers from 1 to 1000\n",
        "2. Read more about if conditions. https://docs.python.org/3/tutorial/controlflow.html \n",
        "Look at our tasks for the practical class once again, we used ```if``` in list comprehensions and in a task with a feedback classification (week4). \n",
        "3. Create an empty list. For each number check the condition: if this number is divided by 3 (without the remainder), add a word 'Three' in a new list, if it is divided by 5, add a word 'Five', if it is divided by both 3 and 5 - add 'ThreeFive'. Else (if all these conditions are not satisfied), simply add this number to a new list.\n",
        "\n",
        "The beginning of this sequence should be: [1, 2, 'Three', 4, 'Five', 'Three', 7, 8, 'Three', 'Five', 11, 'Three', 13, 14, 'ThreeFive', ...]"
      ]
    },
    {
      "cell_type": "code",
      "metadata": {
        "id": "4m0fD8W5_NDQ",
        "colab": {
          "base_uri": "https://localhost:8080/"
        },
        "outputId": "772cddca-9b22-41fe-df51-71a25218c6a1"
      },
      "source": [
        "my_list = [x for x in range(1, 1001)]\r\n",
        "answer_list = []\r\n",
        "for i in my_list:\r\n",
        "  if i % 3 == 0 and i % 5 == 0:\r\n",
        "    answer_list.append('ThreeFive')\r\n",
        "  elif i % 3 == 0:\r\n",
        "    answer_list.append('Three')\r\n",
        "  elif i % 5 == 0:\r\n",
        "    answer_list.append('Five')\r\n",
        "  else:\r\n",
        "    answer_list.append(i)\r\n",
        "print(my_list)\r\n",
        "print(answer_list)"
      ],
      "execution_count": 63,
      "outputs": [
        {
          "output_type": "stream",
          "text": [
            "[1, 2, 3, 4, 5, 6, 7, 8, 9, 10, 11, 12, 13, 14, 15, 16, 17, 18, 19, 20, 21, 22, 23, 24, 25, 26, 27, 28, 29, 30, 31, 32, 33, 34, 35, 36, 37, 38, 39, 40, 41, 42, 43, 44, 45, 46, 47, 48, 49, 50, 51, 52, 53, 54, 55, 56, 57, 58, 59, 60, 61, 62, 63, 64, 65, 66, 67, 68, 69, 70, 71, 72, 73, 74, 75, 76, 77, 78, 79, 80, 81, 82, 83, 84, 85, 86, 87, 88, 89, 90, 91, 92, 93, 94, 95, 96, 97, 98, 99, 100, 101, 102, 103, 104, 105, 106, 107, 108, 109, 110, 111, 112, 113, 114, 115, 116, 117, 118, 119, 120, 121, 122, 123, 124, 125, 126, 127, 128, 129, 130, 131, 132, 133, 134, 135, 136, 137, 138, 139, 140, 141, 142, 143, 144, 145, 146, 147, 148, 149, 150, 151, 152, 153, 154, 155, 156, 157, 158, 159, 160, 161, 162, 163, 164, 165, 166, 167, 168, 169, 170, 171, 172, 173, 174, 175, 176, 177, 178, 179, 180, 181, 182, 183, 184, 185, 186, 187, 188, 189, 190, 191, 192, 193, 194, 195, 196, 197, 198, 199, 200, 201, 202, 203, 204, 205, 206, 207, 208, 209, 210, 211, 212, 213, 214, 215, 216, 217, 218, 219, 220, 221, 222, 223, 224, 225, 226, 227, 228, 229, 230, 231, 232, 233, 234, 235, 236, 237, 238, 239, 240, 241, 242, 243, 244, 245, 246, 247, 248, 249, 250, 251, 252, 253, 254, 255, 256, 257, 258, 259, 260, 261, 262, 263, 264, 265, 266, 267, 268, 269, 270, 271, 272, 273, 274, 275, 276, 277, 278, 279, 280, 281, 282, 283, 284, 285, 286, 287, 288, 289, 290, 291, 292, 293, 294, 295, 296, 297, 298, 299, 300, 301, 302, 303, 304, 305, 306, 307, 308, 309, 310, 311, 312, 313, 314, 315, 316, 317, 318, 319, 320, 321, 322, 323, 324, 325, 326, 327, 328, 329, 330, 331, 332, 333, 334, 335, 336, 337, 338, 339, 340, 341, 342, 343, 344, 345, 346, 347, 348, 349, 350, 351, 352, 353, 354, 355, 356, 357, 358, 359, 360, 361, 362, 363, 364, 365, 366, 367, 368, 369, 370, 371, 372, 373, 374, 375, 376, 377, 378, 379, 380, 381, 382, 383, 384, 385, 386, 387, 388, 389, 390, 391, 392, 393, 394, 395, 396, 397, 398, 399, 400, 401, 402, 403, 404, 405, 406, 407, 408, 409, 410, 411, 412, 413, 414, 415, 416, 417, 418, 419, 420, 421, 422, 423, 424, 425, 426, 427, 428, 429, 430, 431, 432, 433, 434, 435, 436, 437, 438, 439, 440, 441, 442, 443, 444, 445, 446, 447, 448, 449, 450, 451, 452, 453, 454, 455, 456, 457, 458, 459, 460, 461, 462, 463, 464, 465, 466, 467, 468, 469, 470, 471, 472, 473, 474, 475, 476, 477, 478, 479, 480, 481, 482, 483, 484, 485, 486, 487, 488, 489, 490, 491, 492, 493, 494, 495, 496, 497, 498, 499, 500, 501, 502, 503, 504, 505, 506, 507, 508, 509, 510, 511, 512, 513, 514, 515, 516, 517, 518, 519, 520, 521, 522, 523, 524, 525, 526, 527, 528, 529, 530, 531, 532, 533, 534, 535, 536, 537, 538, 539, 540, 541, 542, 543, 544, 545, 546, 547, 548, 549, 550, 551, 552, 553, 554, 555, 556, 557, 558, 559, 560, 561, 562, 563, 564, 565, 566, 567, 568, 569, 570, 571, 572, 573, 574, 575, 576, 577, 578, 579, 580, 581, 582, 583, 584, 585, 586, 587, 588, 589, 590, 591, 592, 593, 594, 595, 596, 597, 598, 599, 600, 601, 602, 603, 604, 605, 606, 607, 608, 609, 610, 611, 612, 613, 614, 615, 616, 617, 618, 619, 620, 621, 622, 623, 624, 625, 626, 627, 628, 629, 630, 631, 632, 633, 634, 635, 636, 637, 638, 639, 640, 641, 642, 643, 644, 645, 646, 647, 648, 649, 650, 651, 652, 653, 654, 655, 656, 657, 658, 659, 660, 661, 662, 663, 664, 665, 666, 667, 668, 669, 670, 671, 672, 673, 674, 675, 676, 677, 678, 679, 680, 681, 682, 683, 684, 685, 686, 687, 688, 689, 690, 691, 692, 693, 694, 695, 696, 697, 698, 699, 700, 701, 702, 703, 704, 705, 706, 707, 708, 709, 710, 711, 712, 713, 714, 715, 716, 717, 718, 719, 720, 721, 722, 723, 724, 725, 726, 727, 728, 729, 730, 731, 732, 733, 734, 735, 736, 737, 738, 739, 740, 741, 742, 743, 744, 745, 746, 747, 748, 749, 750, 751, 752, 753, 754, 755, 756, 757, 758, 759, 760, 761, 762, 763, 764, 765, 766, 767, 768, 769, 770, 771, 772, 773, 774, 775, 776, 777, 778, 779, 780, 781, 782, 783, 784, 785, 786, 787, 788, 789, 790, 791, 792, 793, 794, 795, 796, 797, 798, 799, 800, 801, 802, 803, 804, 805, 806, 807, 808, 809, 810, 811, 812, 813, 814, 815, 816, 817, 818, 819, 820, 821, 822, 823, 824, 825, 826, 827, 828, 829, 830, 831, 832, 833, 834, 835, 836, 837, 838, 839, 840, 841, 842, 843, 844, 845, 846, 847, 848, 849, 850, 851, 852, 853, 854, 855, 856, 857, 858, 859, 860, 861, 862, 863, 864, 865, 866, 867, 868, 869, 870, 871, 872, 873, 874, 875, 876, 877, 878, 879, 880, 881, 882, 883, 884, 885, 886, 887, 888, 889, 890, 891, 892, 893, 894, 895, 896, 897, 898, 899, 900, 901, 902, 903, 904, 905, 906, 907, 908, 909, 910, 911, 912, 913, 914, 915, 916, 917, 918, 919, 920, 921, 922, 923, 924, 925, 926, 927, 928, 929, 930, 931, 932, 933, 934, 935, 936, 937, 938, 939, 940, 941, 942, 943, 944, 945, 946, 947, 948, 949, 950, 951, 952, 953, 954, 955, 956, 957, 958, 959, 960, 961, 962, 963, 964, 965, 966, 967, 968, 969, 970, 971, 972, 973, 974, 975, 976, 977, 978, 979, 980, 981, 982, 983, 984, 985, 986, 987, 988, 989, 990, 991, 992, 993, 994, 995, 996, 997, 998, 999, 1000]\n",
            "[1, 2, 'Three', 4, 'Five', 'Three', 7, 8, 'Three', 'Five', 11, 'Three', 13, 14, 'ThreeFive', 16, 17, 'Three', 19, 'Five', 'Three', 22, 23, 'Three', 'Five', 26, 'Three', 28, 29, 'ThreeFive', 31, 32, 'Three', 34, 'Five', 'Three', 37, 38, 'Three', 'Five', 41, 'Three', 43, 44, 'ThreeFive', 46, 47, 'Three', 49, 'Five', 'Three', 52, 53, 'Three', 'Five', 56, 'Three', 58, 59, 'ThreeFive', 61, 62, 'Three', 64, 'Five', 'Three', 67, 68, 'Three', 'Five', 71, 'Three', 73, 74, 'ThreeFive', 76, 77, 'Three', 79, 'Five', 'Three', 82, 83, 'Three', 'Five', 86, 'Three', 88, 89, 'ThreeFive', 91, 92, 'Three', 94, 'Five', 'Three', 97, 98, 'Three', 'Five', 101, 'Three', 103, 104, 'ThreeFive', 106, 107, 'Three', 109, 'Five', 'Three', 112, 113, 'Three', 'Five', 116, 'Three', 118, 119, 'ThreeFive', 121, 122, 'Three', 124, 'Five', 'Three', 127, 128, 'Three', 'Five', 131, 'Three', 133, 134, 'ThreeFive', 136, 137, 'Three', 139, 'Five', 'Three', 142, 143, 'Three', 'Five', 146, 'Three', 148, 149, 'ThreeFive', 151, 152, 'Three', 154, 'Five', 'Three', 157, 158, 'Three', 'Five', 161, 'Three', 163, 164, 'ThreeFive', 166, 167, 'Three', 169, 'Five', 'Three', 172, 173, 'Three', 'Five', 176, 'Three', 178, 179, 'ThreeFive', 181, 182, 'Three', 184, 'Five', 'Three', 187, 188, 'Three', 'Five', 191, 'Three', 193, 194, 'ThreeFive', 196, 197, 'Three', 199, 'Five', 'Three', 202, 203, 'Three', 'Five', 206, 'Three', 208, 209, 'ThreeFive', 211, 212, 'Three', 214, 'Five', 'Three', 217, 218, 'Three', 'Five', 221, 'Three', 223, 224, 'ThreeFive', 226, 227, 'Three', 229, 'Five', 'Three', 232, 233, 'Three', 'Five', 236, 'Three', 238, 239, 'ThreeFive', 241, 242, 'Three', 244, 'Five', 'Three', 247, 248, 'Three', 'Five', 251, 'Three', 253, 254, 'ThreeFive', 256, 257, 'Three', 259, 'Five', 'Three', 262, 263, 'Three', 'Five', 266, 'Three', 268, 269, 'ThreeFive', 271, 272, 'Three', 274, 'Five', 'Three', 277, 278, 'Three', 'Five', 281, 'Three', 283, 284, 'ThreeFive', 286, 287, 'Three', 289, 'Five', 'Three', 292, 293, 'Three', 'Five', 296, 'Three', 298, 299, 'ThreeFive', 301, 302, 'Three', 304, 'Five', 'Three', 307, 308, 'Three', 'Five', 311, 'Three', 313, 314, 'ThreeFive', 316, 317, 'Three', 319, 'Five', 'Three', 322, 323, 'Three', 'Five', 326, 'Three', 328, 329, 'ThreeFive', 331, 332, 'Three', 334, 'Five', 'Three', 337, 338, 'Three', 'Five', 341, 'Three', 343, 344, 'ThreeFive', 346, 347, 'Three', 349, 'Five', 'Three', 352, 353, 'Three', 'Five', 356, 'Three', 358, 359, 'ThreeFive', 361, 362, 'Three', 364, 'Five', 'Three', 367, 368, 'Three', 'Five', 371, 'Three', 373, 374, 'ThreeFive', 376, 377, 'Three', 379, 'Five', 'Three', 382, 383, 'Three', 'Five', 386, 'Three', 388, 389, 'ThreeFive', 391, 392, 'Three', 394, 'Five', 'Three', 397, 398, 'Three', 'Five', 401, 'Three', 403, 404, 'ThreeFive', 406, 407, 'Three', 409, 'Five', 'Three', 412, 413, 'Three', 'Five', 416, 'Three', 418, 419, 'ThreeFive', 421, 422, 'Three', 424, 'Five', 'Three', 427, 428, 'Three', 'Five', 431, 'Three', 433, 434, 'ThreeFive', 436, 437, 'Three', 439, 'Five', 'Three', 442, 443, 'Three', 'Five', 446, 'Three', 448, 449, 'ThreeFive', 451, 452, 'Three', 454, 'Five', 'Three', 457, 458, 'Three', 'Five', 461, 'Three', 463, 464, 'ThreeFive', 466, 467, 'Three', 469, 'Five', 'Three', 472, 473, 'Three', 'Five', 476, 'Three', 478, 479, 'ThreeFive', 481, 482, 'Three', 484, 'Five', 'Three', 487, 488, 'Three', 'Five', 491, 'Three', 493, 494, 'ThreeFive', 496, 497, 'Three', 499, 'Five', 'Three', 502, 503, 'Three', 'Five', 506, 'Three', 508, 509, 'ThreeFive', 511, 512, 'Three', 514, 'Five', 'Three', 517, 518, 'Three', 'Five', 521, 'Three', 523, 524, 'ThreeFive', 526, 527, 'Three', 529, 'Five', 'Three', 532, 533, 'Three', 'Five', 536, 'Three', 538, 539, 'ThreeFive', 541, 542, 'Three', 544, 'Five', 'Three', 547, 548, 'Three', 'Five', 551, 'Three', 553, 554, 'ThreeFive', 556, 557, 'Three', 559, 'Five', 'Three', 562, 563, 'Three', 'Five', 566, 'Three', 568, 569, 'ThreeFive', 571, 572, 'Three', 574, 'Five', 'Three', 577, 578, 'Three', 'Five', 581, 'Three', 583, 584, 'ThreeFive', 586, 587, 'Three', 589, 'Five', 'Three', 592, 593, 'Three', 'Five', 596, 'Three', 598, 599, 'ThreeFive', 601, 602, 'Three', 604, 'Five', 'Three', 607, 608, 'Three', 'Five', 611, 'Three', 613, 614, 'ThreeFive', 616, 617, 'Three', 619, 'Five', 'Three', 622, 623, 'Three', 'Five', 626, 'Three', 628, 629, 'ThreeFive', 631, 632, 'Three', 634, 'Five', 'Three', 637, 638, 'Three', 'Five', 641, 'Three', 643, 644, 'ThreeFive', 646, 647, 'Three', 649, 'Five', 'Three', 652, 653, 'Three', 'Five', 656, 'Three', 658, 659, 'ThreeFive', 661, 662, 'Three', 664, 'Five', 'Three', 667, 668, 'Three', 'Five', 671, 'Three', 673, 674, 'ThreeFive', 676, 677, 'Three', 679, 'Five', 'Three', 682, 683, 'Three', 'Five', 686, 'Three', 688, 689, 'ThreeFive', 691, 692, 'Three', 694, 'Five', 'Three', 697, 698, 'Three', 'Five', 701, 'Three', 703, 704, 'ThreeFive', 706, 707, 'Three', 709, 'Five', 'Three', 712, 713, 'Three', 'Five', 716, 'Three', 718, 719, 'ThreeFive', 721, 722, 'Three', 724, 'Five', 'Three', 727, 728, 'Three', 'Five', 731, 'Three', 733, 734, 'ThreeFive', 736, 737, 'Three', 739, 'Five', 'Three', 742, 743, 'Three', 'Five', 746, 'Three', 748, 749, 'ThreeFive', 751, 752, 'Three', 754, 'Five', 'Three', 757, 758, 'Three', 'Five', 761, 'Three', 763, 764, 'ThreeFive', 766, 767, 'Three', 769, 'Five', 'Three', 772, 773, 'Three', 'Five', 776, 'Three', 778, 779, 'ThreeFive', 781, 782, 'Three', 784, 'Five', 'Three', 787, 788, 'Three', 'Five', 791, 'Three', 793, 794, 'ThreeFive', 796, 797, 'Three', 799, 'Five', 'Three', 802, 803, 'Three', 'Five', 806, 'Three', 808, 809, 'ThreeFive', 811, 812, 'Three', 814, 'Five', 'Three', 817, 818, 'Three', 'Five', 821, 'Three', 823, 824, 'ThreeFive', 826, 827, 'Three', 829, 'Five', 'Three', 832, 833, 'Three', 'Five', 836, 'Three', 838, 839, 'ThreeFive', 841, 842, 'Three', 844, 'Five', 'Three', 847, 848, 'Three', 'Five', 851, 'Three', 853, 854, 'ThreeFive', 856, 857, 'Three', 859, 'Five', 'Three', 862, 863, 'Three', 'Five', 866, 'Three', 868, 869, 'ThreeFive', 871, 872, 'Three', 874, 'Five', 'Three', 877, 878, 'Three', 'Five', 881, 'Three', 883, 884, 'ThreeFive', 886, 887, 'Three', 889, 'Five', 'Three', 892, 893, 'Three', 'Five', 896, 'Three', 898, 899, 'ThreeFive', 901, 902, 'Three', 904, 'Five', 'Three', 907, 908, 'Three', 'Five', 911, 'Three', 913, 914, 'ThreeFive', 916, 917, 'Three', 919, 'Five', 'Three', 922, 923, 'Three', 'Five', 926, 'Three', 928, 929, 'ThreeFive', 931, 932, 'Three', 934, 'Five', 'Three', 937, 938, 'Three', 'Five', 941, 'Three', 943, 944, 'ThreeFive', 946, 947, 'Three', 949, 'Five', 'Three', 952, 953, 'Three', 'Five', 956, 'Three', 958, 959, 'ThreeFive', 961, 962, 'Three', 964, 'Five', 'Three', 967, 968, 'Three', 'Five', 971, 'Three', 973, 974, 'ThreeFive', 976, 977, 'Three', 979, 'Five', 'Three', 982, 983, 'Three', 'Five', 986, 'Three', 988, 989, 'ThreeFive', 991, 992, 'Three', 994, 'Five', 'Three', 997, 998, 'Three', 'Five']\n"
          ],
          "name": "stdout"
        }
      ]
    },
    {
      "cell_type": "code",
      "metadata": {
        "id": "CZsZ7EjnKlu9"
      },
      "source": [
        ""
      ],
      "execution_count": null,
      "outputs": []
    }
  ]
}